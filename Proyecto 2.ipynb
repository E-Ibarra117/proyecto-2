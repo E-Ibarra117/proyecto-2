{
 "cells": [
  {
   "cell_type": "code",
   "execution_count": 19,
   "id": "092da102",
   "metadata": {},
   "outputs": [],
   "source": [
    "import numpy as np\n",
    "import pandas as pd\n",
    "import matplotlib.pyplot as plt\n",
    "import tensorflow as tf\n",
    "from sklearn.model_selection import train_test_split\n",
    "from PIL import Image\n",
    "\n",
    "# Tensorflow Libraries\n",
    "from tensorflow import keras\n",
    "from tensorflow.keras import layers,models\n",
    "from keras_preprocessing.image import ImageDataGenerator\n",
    "from keras.layers import Dense, Dropout\n",
    "from tensorflow.keras.callbacks import Callback, EarlyStopping,ModelCheckpoint\n",
    "from tensorflow.keras.optimizers import Adam\n",
    "from tensorflow.keras.applications import MobileNetV2\n",
    "from tensorflow.keras import Model\n",
    "from tensorflow.keras.layers.experimental import preprocessing\n",
    "from tensorflow.keras.models import Sequential\n",
    "from tensorflow.keras.layers import Conv2D, MaxPooling2D, Dense, Flatten, Dropout\n",
    "\n",
    "# System libraries\n",
    "from pathlib import Path\n",
    "import os.path\n",
    "\n",
    "from sklearn.metrics import classification_report, confusion_matrix\n",
    "import itertools"
   ]
  },
  {
   "cell_type": "code",
   "execution_count": 3,
   "id": "dd635594",
   "metadata": {},
   "outputs": [],
   "source": [
    "BATCH_SIZE = 32\n",
    "IMAGE_SIZE = (320, 320)"
   ]
  },
  {
   "cell_type": "code",
   "execution_count": 6,
   "id": "66a0e774",
   "metadata": {},
   "outputs": [],
   "source": [
    "dataset = \"fire_dataset\"\n",
    "image_dir = Path(dataset)\n",
    "\n",
    "filepaths = list(image_dir.glob(r'**/*.JPG')) + list(image_dir.glob(r'**/*.jpg')) + list(image_dir.glob(r'**/*.png'))\n",
    "\n",
    "labels = list(map(lambda x: os.path.split(os.path.split(x)[0])[1], filepaths))\n",
    "\n",
    "filepaths = pd.Series(filepaths, name='Filepath').astype(str)\n",
    "labels = pd.Series(labels, name='Label')\n",
    "\n",
    "image_df = pd.concat([filepaths, labels], axis=1)"
   ]
  },
  {
   "cell_type": "code",
   "execution_count": 7,
   "id": "cfcb8248",
   "metadata": {},
   "outputs": [],
   "source": [
    "train_df, test_df = train_test_split(image_df, test_size=0.2, shuffle=True, random_state=42)"
   ]
  },
  {
   "cell_type": "code",
   "execution_count": 8,
   "id": "a2a086b8",
   "metadata": {},
   "outputs": [],
   "source": [
    "train_generator = ImageDataGenerator(\n",
    "    preprocessing_function=tf.keras.applications.mobilenet_v2.preprocess_input,\n",
    "    validation_split=0.2\n",
    ")\n",
    "\n",
    "test_generator = ImageDataGenerator(\n",
    "    preprocessing_function=tf.keras.applications.mobilenet_v2.preprocess_input\n",
    ")"
   ]
  },
  {
   "cell_type": "code",
   "execution_count": 9,
   "id": "e41581e8",
   "metadata": {},
   "outputs": [
    {
     "name": "stdout",
     "output_type": "stream",
     "text": [
      "Found 640 validated image filenames belonging to 2 classes.\n",
      "Found 159 validated image filenames belonging to 2 classes.\n",
      "Found 200 validated image filenames belonging to 2 classes.\n"
     ]
    }
   ],
   "source": [
    "# Split the data into three categories.\n",
    "train_images = train_generator.flow_from_dataframe(\n",
    "    dataframe=train_df,\n",
    "    x_col='Filepath',\n",
    "    y_col='Label',\n",
    "    target_size=(224, 224),\n",
    "    color_mode='rgb',\n",
    "    class_mode='categorical',\n",
    "    batch_size=32,\n",
    "    shuffle=True,\n",
    "    seed=42,\n",
    "    subset='training'\n",
    ")\n",
    "\n",
    "val_images = train_generator.flow_from_dataframe(\n",
    "    dataframe=train_df,\n",
    "    x_col='Filepath',\n",
    "    y_col='Label',\n",
    "    target_size=(224, 224),\n",
    "    color_mode='rgb',\n",
    "    class_mode='categorical',\n",
    "    batch_size=32,\n",
    "    shuffle=True,\n",
    "    seed=42,\n",
    "    subset='validation'\n",
    ")\n",
    "\n",
    "test_images = test_generator.flow_from_dataframe(\n",
    "    dataframe=test_df,\n",
    "    x_col='Filepath',\n",
    "    y_col='Label',\n",
    "    target_size=(224, 224),\n",
    "    color_mode='rgb',\n",
    "    class_mode='categorical',\n",
    "    batch_size=32,\n",
    "    shuffle=False\n",
    ")"
   ]
  },
  {
   "cell_type": "code",
   "execution_count": 108,
   "id": "772986a4",
   "metadata": {},
   "outputs": [],
   "source": [
    "cnn= Sequential()\n",
    "cnn.add(Conv2D(16, (3,3), 1, activation='relu', input_shape=(224,224,3)))\n",
    "cnn.add(MaxPooling2D())\n",
    "cnn.add(Conv2D(32, (3,3), 1, activation='relu'))\n",
    "cnn.add(MaxPooling2D())\n",
    "cnn.add(Conv2D(16, (3,3), 1, activation='relu'))\n",
    "cnn.add(MaxPooling2D())\n",
    "cnn.add(Flatten())\n",
    "cnn.add(Dense(224, activation='relu'))\n",
    "cnn.add(Dense(2, activation='sigmoid'))"
   ]
  },
  {
   "cell_type": "code",
   "execution_count": 109,
   "id": "fe5baa24",
   "metadata": {},
   "outputs": [],
   "source": [
    "cnn.compile(optimizer=\"adam\",loss=\"binary_crossentropy\",metrics=[\"accuracy\"])"
   ]
  },
  {
   "cell_type": "code",
   "execution_count": 110,
   "id": "fe4d41d3",
   "metadata": {},
   "outputs": [
    {
     "name": "stdout",
     "output_type": "stream",
     "text": [
      "Epoch 1/15\n",
      "20/20 [==============================] - 48s 2s/step - loss: 0.5750 - accuracy: 0.7766 - val_loss: 0.2261 - val_accuracy: 0.9434\n",
      "Epoch 2/15\n",
      "20/20 [==============================] - 47s 2s/step - loss: 0.2382 - accuracy: 0.9047 - val_loss: 0.1740 - val_accuracy: 0.9560\n",
      "Epoch 3/15\n",
      "20/20 [==============================] - 46s 2s/step - loss: 0.1429 - accuracy: 0.9453 - val_loss: 0.1714 - val_accuracy: 0.9371\n",
      "Epoch 4/15\n",
      "20/20 [==============================] - 47s 2s/step - loss: 0.1231 - accuracy: 0.9516 - val_loss: 0.1605 - val_accuracy: 0.9434\n",
      "Epoch 5/15\n",
      "20/20 [==============================] - 48s 2s/step - loss: 0.0823 - accuracy: 0.9703 - val_loss: 0.1180 - val_accuracy: 0.9434\n",
      "Epoch 6/15\n",
      "20/20 [==============================] - 48s 2s/step - loss: 0.0702 - accuracy: 0.9703 - val_loss: 0.1112 - val_accuracy: 0.9434\n",
      "Epoch 7/15\n",
      "20/20 [==============================] - 47s 2s/step - loss: 0.0798 - accuracy: 0.9734 - val_loss: 0.1370 - val_accuracy: 0.9560\n",
      "Epoch 8/15\n",
      "20/20 [==============================] - 46s 2s/step - loss: 0.0549 - accuracy: 0.9781 - val_loss: 0.1078 - val_accuracy: 0.9560\n",
      "Epoch 9/15\n",
      "20/20 [==============================] - 47s 2s/step - loss: 0.0709 - accuracy: 0.9672 - val_loss: 0.1292 - val_accuracy: 0.9434\n",
      "Epoch 10/15\n",
      "20/20 [==============================] - 47s 2s/step - loss: 0.0669 - accuracy: 0.9812 - val_loss: 0.2391 - val_accuracy: 0.9371\n",
      "Epoch 11/15\n",
      "20/20 [==============================] - 46s 2s/step - loss: 0.0560 - accuracy: 0.9766 - val_loss: 0.1848 - val_accuracy: 0.9560\n",
      "Epoch 12/15\n",
      "20/20 [==============================] - 48s 2s/step - loss: 0.0435 - accuracy: 0.9875 - val_loss: 0.2167 - val_accuracy: 0.9497\n",
      "Epoch 13/15\n",
      "20/20 [==============================] - 47s 2s/step - loss: 0.0215 - accuracy: 1.0000 - val_loss: 0.1600 - val_accuracy: 0.9623\n",
      "Epoch 14/15\n",
      "20/20 [==============================] - 46s 2s/step - loss: 0.0295 - accuracy: 0.9906 - val_loss: 0.1534 - val_accuracy: 0.9623\n",
      "Epoch 15/15\n",
      "20/20 [==============================] - 48s 2s/step - loss: 0.0165 - accuracy: 0.9953 - val_loss: 0.1354 - val_accuracy: 0.9560\n"
     ]
    }
   ],
   "source": [
    "cnn_hist = cnn.fit(train_images,\n",
    "    steps_per_epoch=len(train_images),\n",
    "    validation_data=val_images,\n",
    "    validation_steps=len(val_images),\n",
    "    epochs=15,)"
   ]
  },
  {
   "cell_type": "code",
   "execution_count": 113,
   "id": "51a00329",
   "metadata": {},
   "outputs": [
    {
     "name": "stdout",
     "output_type": "stream",
     "text": [
      "Accuracy: 98.00%\n"
     ]
    }
   ],
   "source": [
    "cnn_results = cnn.evaluate(test_images, verbose=0)\n",
    "print(\"Accuracy: {:.2f}%\".format(cnn_results[1] * 100))"
   ]
  },
  {
   "cell_type": "code",
   "execution_count": 10,
   "id": "2dd97225",
   "metadata": {},
   "outputs": [],
   "source": [
    "resize_and_rescale = tf.keras.Sequential([\n",
    "  layers.experimental.preprocessing.Resizing(224,224),\n",
    "  layers.experimental.preprocessing.Rescaling(1./255),\n",
    "])"
   ]
  },
  {
   "cell_type": "code",
   "execution_count": 12,
   "id": "5f211f50",
   "metadata": {},
   "outputs": [],
   "source": [
    "pretrained_model = tf.keras.applications.MobileNetV2(\n",
    "    input_shape=(224, 224, 3),\n",
    "    include_top=False,\n",
    "    weights='imagenet',\n",
    "    pooling='avg'\n",
    ")\n",
    "\n",
    "pretrained_model.trainable = False"
   ]
  },
  {
   "cell_type": "code",
   "execution_count": 16,
   "id": "df36c805",
   "metadata": {},
   "outputs": [
    {
     "name": "stdout",
     "output_type": "stream",
     "text": [
      "Epoch 1/15\n",
      "20/20 [==============================] - 60s 3s/step - loss: 0.4126 - accuracy: 0.8016 - val_loss: 0.2270 - val_accuracy: 0.8994\n",
      "Epoch 2/15\n",
      "20/20 [==============================] - 56s 3s/step - loss: 0.1540 - accuracy: 0.9531 - val_loss: 0.1666 - val_accuracy: 0.9245\n",
      "Epoch 3/15\n",
      "20/20 [==============================] - 58s 3s/step - loss: 0.0772 - accuracy: 0.9797 - val_loss: 0.1386 - val_accuracy: 0.9497\n",
      "Epoch 4/15\n",
      "20/20 [==============================] - 58s 3s/step - loss: 0.0644 - accuracy: 0.9859 - val_loss: 0.1354 - val_accuracy: 0.9371\n",
      "Epoch 5/15\n",
      "20/20 [==============================] - 55s 3s/step - loss: 0.0523 - accuracy: 0.9875 - val_loss: 0.1283 - val_accuracy: 0.9497\n",
      "Epoch 6/15\n",
      "20/20 [==============================] - 55s 3s/step - loss: 0.0401 - accuracy: 0.9859 - val_loss: 0.1257 - val_accuracy: 0.9497\n",
      "Epoch 7/15\n",
      "20/20 [==============================] - 55s 3s/step - loss: 0.0388 - accuracy: 0.9922 - val_loss: 0.1237 - val_accuracy: 0.9560\n",
      "Epoch 8/15\n",
      "20/20 [==============================] - 55s 3s/step - loss: 0.0335 - accuracy: 0.9906 - val_loss: 0.1120 - val_accuracy: 0.9623\n",
      "Epoch 9/15\n",
      "20/20 [==============================] - 53s 3s/step - loss: 0.0262 - accuracy: 0.9937 - val_loss: 0.1152 - val_accuracy: 0.9623\n",
      "Epoch 10/15\n",
      "20/20 [==============================] - 55s 3s/step - loss: 0.0230 - accuracy: 0.9937 - val_loss: 0.1127 - val_accuracy: 0.9623\n",
      "Epoch 11/15\n",
      "20/20 [==============================] - 55s 3s/step - loss: 0.0144 - accuracy: 0.9984 - val_loss: 0.1184 - val_accuracy: 0.9686\n",
      "Epoch 12/15\n",
      "20/20 [==============================] - 53s 3s/step - loss: 0.0160 - accuracy: 0.9969 - val_loss: 0.1128 - val_accuracy: 0.9686\n",
      "Epoch 13/15\n",
      "20/20 [==============================] - 55s 3s/step - loss: 0.0146 - accuracy: 0.9969 - val_loss: 0.1135 - val_accuracy: 0.9686\n",
      "Epoch 14/15\n",
      "20/20 [==============================] - 50s 2s/step - loss: 0.0100 - accuracy: 0.9984 - val_loss: 0.1141 - val_accuracy: 0.9686\n",
      "Epoch 15/15\n",
      "20/20 [==============================] - 49s 2s/step - loss: 0.0108 - accuracy: 0.9969 - val_loss: 0.1273 - val_accuracy: 0.9560\n"
     ]
    }
   ],
   "source": [
    "inputs = pretrained_model.input\n",
    "\n",
    "x = resize_and_rescale(inputs)\n",
    "x = Dense(256, activation='relu')(pretrained_model.output)\n",
    "x = Dropout(0.2)(x)\n",
    "x = Dense(256, activation='relu')(x)\n",
    "x = Dropout(0.2)(x)\n",
    "outputs = Dense(2, activation='softmax')(x)\n",
    "\n",
    "model = Model(inputs=inputs, outputs=outputs)\n",
    "model.compile(\n",
    "    optimizer=Adam(0.0001),\n",
    "    loss='categorical_crossentropy',\n",
    "    metrics=['accuracy']\n",
    ")\n",
    "\n",
    "history = model.fit(\n",
    "    train_images,\n",
    "    steps_per_epoch=len(train_images),\n",
    "    validation_data=val_images,\n",
    "    validation_steps=len(val_images),\n",
    "    epochs=15,\n",
    ")\n",
    "\n"
   ]
  },
  {
   "cell_type": "code",
   "execution_count": 17,
   "id": "30cc05e4",
   "metadata": {
    "scrolled": true
   },
   "outputs": [
    {
     "name": "stdout",
     "output_type": "stream",
     "text": [
      "Accuracy: 98.50%\n"
     ]
    }
   ],
   "source": [
    "results = model.evaluate(test_images, verbose=0)\n",
    "print(\"Accuracy: {:.2f}%\".format(results[1] * 100))"
   ]
  },
  {
   "cell_type": "code",
   "execution_count": 114,
   "id": "575427fb",
   "metadata": {},
   "outputs": [
    {
     "name": "stdout",
     "output_type": "stream",
     "text": [
      "Number of layers in the base model:  156\n"
     ]
    }
   ],
   "source": [
    "print(\"Number of layers in the base model: \", len(pretrained_model.layers))\n",
    "fine_tune_at = 100\n",
    "for layer in pretrained_model.layers[:fine_tune_at]:\n",
    "  layer.trainable = False\n"
   ]
  },
  {
   "cell_type": "code",
   "execution_count": 115,
   "id": "a23f805e",
   "metadata": {},
   "outputs": [],
   "source": [
    "model = Model(inputs=inputs, outputs=outputs)\n",
    "model.compile(\n",
    "    optimizer=Adam(0.0001/10),\n",
    "    loss='categorical_crossentropy',\n",
    "    metrics=['accuracy']\n",
    ")"
   ]
  },
  {
   "cell_type": "code",
   "execution_count": 117,
   "id": "79b4d432",
   "metadata": {},
   "outputs": [
    {
     "name": "stdout",
     "output_type": "stream",
     "text": [
      "Epoch 15/25\n",
      "20/20 [==============================] - 48s 2s/step - loss: 0.0101 - accuracy: 0.9984 - val_loss: 0.1206 - val_accuracy: 0.9686\n",
      "Epoch 16/25\n",
      "20/20 [==============================] - 34s 2s/step - loss: 0.0072 - accuracy: 1.0000 - val_loss: 0.1169 - val_accuracy: 0.9686\n",
      "Epoch 17/25\n",
      "20/20 [==============================] - 32s 2s/step - loss: 0.0074 - accuracy: 1.0000 - val_loss: 0.1152 - val_accuracy: 0.9686\n",
      "Epoch 18/25\n",
      "20/20 [==============================] - 35s 2s/step - loss: 0.0075 - accuracy: 0.9984 - val_loss: 0.1192 - val_accuracy: 0.9686\n",
      "Epoch 19/25\n",
      "20/20 [==============================] - 34s 2s/step - loss: 0.0065 - accuracy: 0.9984 - val_loss: 0.1223 - val_accuracy: 0.9686\n",
      "Epoch 20/25\n",
      "20/20 [==============================] - 32s 2s/step - loss: 0.0051 - accuracy: 1.0000 - val_loss: 0.1266 - val_accuracy: 0.9686\n",
      "Epoch 21/25\n",
      "20/20 [==============================] - 31s 2s/step - loss: 0.0059 - accuracy: 0.9984 - val_loss: 0.1297 - val_accuracy: 0.9560\n",
      "Epoch 22/25\n",
      "20/20 [==============================] - 33s 2s/step - loss: 0.0066 - accuracy: 1.0000 - val_loss: 0.1258 - val_accuracy: 0.9686\n",
      "Epoch 23/25\n",
      "20/20 [==============================] - 33s 2s/step - loss: 0.0092 - accuracy: 0.9969 - val_loss: 0.1227 - val_accuracy: 0.9686\n",
      "Epoch 24/25\n",
      "20/20 [==============================] - 33s 2s/step - loss: 0.0067 - accuracy: 0.9984 - val_loss: 0.1277 - val_accuracy: 0.9686\n",
      "Epoch 25/25\n",
      "20/20 [==============================] - 33s 2s/step - loss: 0.0052 - accuracy: 1.0000 - val_loss: 0.1279 - val_accuracy: 0.9686\n"
     ]
    }
   ],
   "source": [
    "history = model.fit(\n",
    "    train_images,\n",
    "    steps_per_epoch=len(train_images),\n",
    "    validation_data=val_images,\n",
    "    validation_steps=len(val_images),\n",
    "    initial_epoch=history.epoch[-1],\n",
    "    epochs=25,\n",
    ")"
   ]
  },
  {
   "cell_type": "code",
   "execution_count": 118,
   "id": "311c20d4",
   "metadata": {},
   "outputs": [
    {
     "name": "stdout",
     "output_type": "stream",
     "text": [
      "Accuracy: 99.00%\n"
     ]
    }
   ],
   "source": [
    "results = model.evaluate(test_images, verbose=0)\n",
    "print(\"Accuracy: {:.2f}%\".format(results[1] * 100))"
   ]
  },
  {
   "cell_type": "code",
   "execution_count": null,
   "id": "196fca15",
   "metadata": {},
   "outputs": [],
   "source": []
  }
 ],
 "metadata": {
  "kernelspec": {
   "display_name": "Python 3 (ipykernel)",
   "language": "python",
   "name": "python3"
  },
  "language_info": {
   "codemirror_mode": {
    "name": "ipython",
    "version": 3
   },
   "file_extension": ".py",
   "mimetype": "text/x-python",
   "name": "python",
   "nbconvert_exporter": "python",
   "pygments_lexer": "ipython3",
   "version": "3.7.16"
  }
 },
 "nbformat": 4,
 "nbformat_minor": 5
}
